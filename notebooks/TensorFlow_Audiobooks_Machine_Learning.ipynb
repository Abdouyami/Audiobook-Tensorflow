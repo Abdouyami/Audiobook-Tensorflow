{
 "cells": [
  {
   "cell_type": "markdown",
   "metadata": {},
   "source": [
    "# Practical example. Audiobooks"
   ]
  },
  {
   "cell_type": "markdown",
   "metadata": {},
   "source": [
    "## Create the machine learning algorithm\n",
    "\n"
   ]
  },
  {
   "cell_type": "markdown",
   "metadata": {},
   "source": [
    "### Import the relevant libraries"
   ]
  },
  {
   "cell_type": "code",
   "execution_count": 1,
   "metadata": {},
   "outputs": [],
   "source": [
    "# we must import the libraries once again since we haven't imported them in this file\n",
    "import numpy as np\n",
    "import tensorflow as tf"
   ]
  },
  {
   "cell_type": "markdown",
   "metadata": {},
   "source": [
    "### Data"
   ]
  },
  {
   "cell_type": "code",
   "execution_count": 2,
   "metadata": {},
   "outputs": [],
   "source": [
    "# let's create a temporary variable npz, where we will store each of the three Audiobooks datasets\n",
    "npz = np.load('../data/Audiobooks_data_train.npz')\n",
    "\n",
    "# we extract the inputs using the keyword under which we saved them\n",
    "# to ensure that they are all floats, let's also take care of that\n",
    "train_inputs = npz['inputs'].astype(\"float\")\n",
    "# targets must be int because of sparse_categorical_crossentropy (we want to be able to smoothly one-hot encode them)\n",
    "train_targets = npz['targets'].astype(\"int\")\n",
    "\n",
    "# we load the validation data in the temporary variable\n",
    "npz = np.load('../data/Audiobooks_data_validation.npz')\n",
    "# we can load the inputs and the targets in the same line\n",
    "validation_inputs, validation_targets = npz['inputs'].astype(\"float\"), npz['targets'].astype(\"int\")\n",
    "\n",
    "# we load the test data in the temporary variable\n",
    "npz = np.load('../data/Audiobooks_data_test.npz')\n",
    "# we create 2 variables that will contain the test inputs and the test targets\n",
    "test_inputs, test_targets = npz['inputs'].astype(\"float\"), npz['targets'].astype(\"int\")"
   ]
  },
  {
   "cell_type": "markdown",
   "metadata": {},
   "source": [
    "### Model\n",
    "Outline, optimizers, loss, early stopping and training"
   ]
  },
  {
   "cell_type": "code",
   "execution_count": 3,
   "metadata": {},
   "outputs": [
    {
     "name": "stdout",
     "output_type": "stream",
     "text": [
      "Epoch 1/100\n",
      "36/36 - 2s - 66ms/step - accuracy: 0.7673 - loss: 0.5584 - val_accuracy: 0.8814 - val_loss: 0.4321\n",
      "Epoch 2/100\n",
      "36/36 - 0s - 11ms/step - accuracy: 0.8751 - loss: 0.3705 - val_accuracy: 0.8837 - val_loss: 0.3304\n",
      "Epoch 3/100\n",
      "36/36 - 0s - 9ms/step - accuracy: 0.8818 - loss: 0.3175 - val_accuracy: 0.8881 - val_loss: 0.3084\n",
      "Epoch 4/100\n",
      "36/36 - 0s - 4ms/step - accuracy: 0.8874 - loss: 0.2972 - val_accuracy: 0.8926 - val_loss: 0.2935\n",
      "Epoch 5/100\n",
      "36/36 - 0s - 7ms/step - accuracy: 0.8924 - loss: 0.2851 - val_accuracy: 0.8971 - val_loss: 0.2858\n",
      "Epoch 6/100\n",
      "36/36 - 0s - 5ms/step - accuracy: 0.8952 - loss: 0.2754 - val_accuracy: 0.9016 - val_loss: 0.2752\n",
      "Epoch 7/100\n",
      "36/36 - 0s - 5ms/step - accuracy: 0.8983 - loss: 0.2676 - val_accuracy: 0.9038 - val_loss: 0.2731\n",
      "Epoch 8/100\n",
      "36/36 - 0s - 4ms/step - accuracy: 0.9003 - loss: 0.2622 - val_accuracy: 0.9038 - val_loss: 0.2737\n",
      "Epoch 9/100\n",
      "36/36 - 0s - 5ms/step - accuracy: 0.8997 - loss: 0.2587 - val_accuracy: 0.9083 - val_loss: 0.2656\n",
      "Epoch 10/100\n",
      "36/36 - 0s - 5ms/step - accuracy: 0.9019 - loss: 0.2548 - val_accuracy: 0.9060 - val_loss: 0.2602\n",
      "Epoch 11/100\n",
      "36/36 - 0s - 5ms/step - accuracy: 0.9039 - loss: 0.2505 - val_accuracy: 0.9083 - val_loss: 0.2597\n",
      "Epoch 12/100\n",
      "36/36 - 0s - 5ms/step - accuracy: 0.9025 - loss: 0.2498 - val_accuracy: 0.9083 - val_loss: 0.2564\n",
      "Epoch 13/100\n",
      "36/36 - 0s - 5ms/step - accuracy: 0.9056 - loss: 0.2454 - val_accuracy: 0.9105 - val_loss: 0.2524\n",
      "Epoch 14/100\n",
      "36/36 - 0s - 5ms/step - accuracy: 0.9050 - loss: 0.2426 - val_accuracy: 0.9105 - val_loss: 0.2539\n",
      "Epoch 15/100\n",
      "36/36 - 0s - 6ms/step - accuracy: 0.9053 - loss: 0.2444 - val_accuracy: 0.9128 - val_loss: 0.2463\n",
      "Epoch 16/100\n",
      "36/36 - 0s - 5ms/step - accuracy: 0.9070 - loss: 0.2413 - val_accuracy: 0.9128 - val_loss: 0.2460\n",
      "Epoch 17/100\n",
      "36/36 - 0s - 6ms/step - accuracy: 0.9084 - loss: 0.2377 - val_accuracy: 0.9172 - val_loss: 0.2505\n",
      "Epoch 18/100\n",
      "36/36 - 0s - 5ms/step - accuracy: 0.9084 - loss: 0.2363 - val_accuracy: 0.9128 - val_loss: 0.2503\n"
     ]
    },
    {
     "data": {
      "text/plain": [
       "<keras.src.callbacks.history.History at 0x171e7e0deb0>"
      ]
     },
     "execution_count": 3,
     "metadata": {},
     "output_type": "execute_result"
    }
   ],
   "source": [
    "# Set the input and output sizes\n",
    "input_size = 10\n",
    "output_size = 2\n",
    "# Use same hidden layer size for both hidden layers. Not a necessity.\n",
    "hidden_layer_size = 50\n",
    "    \n",
    "# define how the model will look like\n",
    "model = tf.keras.Sequential([\n",
    "    # tf.keras.layers.Dense is basically implementing: output = activation(dot(input, weight) + bias)\n",
    "    # it takes several arguments, but the most important ones for us are the hidden_layer_size and the activation function\n",
    "    tf.keras.layers.Dense(hidden_layer_size, activation='relu'), # 1st hidden layer\n",
    "    tf.keras.layers.Dense(hidden_layer_size, activation='relu'), # 2nd hidden layer\n",
    "    # the final layer is no different, we just make sure to activate it with softmax\n",
    "    tf.keras.layers.Dense(output_size, activation='softmax') # output layer\n",
    "])\n",
    "\n",
    "\n",
    "### Choose the optimizer and the loss function\n",
    "\n",
    "# we define the optimizer we'd like to use, \n",
    "# the loss function, \n",
    "# and the metrics we are interested in obtaining at each iteration\n",
    "model.compile(optimizer='adam', loss='sparse_categorical_crossentropy', metrics=['accuracy'])\n",
    "\n",
    "### Training\n",
    "# That's where we train the model we have built.\n",
    "\n",
    "# set the batch size\n",
    "batch_size = 100\n",
    "\n",
    "# set a maximum number of training epochs\n",
    "max_epochs = 100\n",
    "\n",
    "# set an early stopping mechanism\n",
    "# let's set patience=2, to be a bit tolerant against random validation loss increases\n",
    "early_stopping = tf.keras.callbacks.EarlyStopping(patience=2)\n",
    "\n",
    "csv_logger = tf.keras.callbacks.CSVLogger(\"../run/log.csv\", separator=',', append=False)\n",
    "\n",
    "# fit the model\n",
    "# note that this time the train, validation and test data are not iterable\n",
    "model.fit(train_inputs, # train inputs\n",
    "          train_targets, # train targets\n",
    "          batch_size=batch_size, # batch size\n",
    "          epochs=max_epochs, # epochs that we will train for (assuming early stopping doesn't kick in)\n",
    "          # callbacks are functions called by a task when a task is completed\n",
    "          # task here is to check if val_loss is increasing\n",
    "          callbacks=[early_stopping, csv_logger], # early stopping\n",
    "          validation_data=(validation_inputs, validation_targets), # validation data\n",
    "          verbose = 2 # making sure we get enough information about the training process\n",
    "          )  "
   ]
  },
  {
   "cell_type": "markdown",
   "metadata": {},
   "source": [
    "## Model Evaluation and Testing\n",
    "\n",
    "After training your model on the training data and validating it using a separate validation set, the next crucial step is to test its final prediction performance using a test dataset—one that the model has never encountered before.\n",
    "\n",
    "Why is this so important? The test set serves as the ultimate benchmark for your model’s ability to generalize. If you've fine-tuned your model and adjusted hyperparameters based on the validation data, using the test data for any adjustments can lead to overfitting, meaning your model will perform well only on the test set, not on new, unseen data.\n",
    "\n",
    "The key takeaway is that testing should be the final step. Once you run your model on the test data, avoid making further changes. Any adjustments after testing would compromise the integrity of the test set, which is meant to be the unbiased evaluation of how well your model will perform in real-world scenarios.\n",
    "\n",
    "In short, once you test, you're done refining. This is the point at which you can confidently assess the model’s true predictive power."
   ]
  },
  {
   "cell_type": "code",
   "execution_count": 4,
   "metadata": {},
   "outputs": [
    {
     "name": "stdout",
     "output_type": "stream",
     "text": [
      "\u001b[1m14/14\u001b[0m \u001b[32m━━━━━━━━━━━━━━━━━━━━\u001b[0m\u001b[37m\u001b[0m \u001b[1m0s\u001b[0m 2ms/step - accuracy: 0.8979 - loss: 0.2518 \n"
     ]
    }
   ],
   "source": [
    "test_loss, test_accuracy = model.evaluate(test_inputs, test_targets)"
   ]
  },
  {
   "cell_type": "code",
   "execution_count": 5,
   "metadata": {},
   "outputs": [
    {
     "name": "stdout",
     "output_type": "stream",
     "text": [
      "\n",
      "Test loss: 0.26. Test accuracy: 89.73%\n"
     ]
    }
   ],
   "source": [
    "print('\\nTest loss: {0:.2f}. Test accuracy: {1:.2f}%'.format(test_loss, test_accuracy*100.))"
   ]
  }
 ],
 "metadata": {
  "kernelspec": {
   "display_name": "Python 3",
   "language": "python",
   "name": "python3"
  },
  "language_info": {
   "codemirror_mode": {
    "name": "ipython",
    "version": 3
   },
   "file_extension": ".py",
   "mimetype": "text/x-python",
   "name": "python",
   "nbconvert_exporter": "python",
   "pygments_lexer": "ipython3",
   "version": "3.12.4"
  }
 },
 "nbformat": 4,
 "nbformat_minor": 2
}
